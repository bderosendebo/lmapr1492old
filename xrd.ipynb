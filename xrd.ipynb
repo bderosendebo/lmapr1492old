{
 "cells": [
  {
   "cell_type": "code",
   "execution_count": 8,
   "id": "demonstrated-pledge",
   "metadata": {},
   "outputs": [],
   "source": [
    "from pymatgen.ext.matproj import MPRester\n",
    "from pymatgen.io.cif import CifWriter\n",
    "from pymatgen.analysis.diffraction.xrd import XRDCalculator\n",
    "from pymatgen.analysis.diffraction.core import *\n",
    "\n",
    "with MPRester(\"f8gAbZFioEswIMUD\") as m:\n",
    "\n",
    "    structure = m.get_structure_by_material_id(\"mp-6980\")"
   ]
  },
  {
   "cell_type": "markdown",
   "id": "guided-lightweight",
   "metadata": {},
   "source": [
    "Pour déterminer les 3 premiers pics du diffractogramme il suffit d'utiliser les bonnes commandes de l'outil XRDCalculator:"
   ]
  },
  {
   "cell_type": "code",
   "execution_count": 42,
   "id": "medieval-treasurer",
   "metadata": {},
   "outputs": [
    {
     "name": "stdout",
     "output_type": "stream",
     "text": [
      "[[{'hkl': (0, 0, 0, 1), 'multiplicity': 2}], [{'hkl': (1, 0, -1, 0), 'multiplicity': 6}], [{'hkl': (0, 0, 0, 2), 'multiplicity': 2}]]\n",
      "Pic 1: 2θ = 14.716775, Intensité = 23.699943, hkl = (0 0 0 ), d_hkl = 6.014429 \n",
      "\n",
      "Pic 2: 2θ = 27.433487, Intensité = 38.085034, hkl = (1 0 -1 ), d_hkl = 3.248538 \n",
      "\n",
      "Pic 3: 2θ = 29.683557, Intensité = 16.403757, hkl = (0 0 0 ), d_hkl = 3.007214 \n",
      "\n"
     ]
    }
   ],
   "source": [
    "XRD=XRDCalculator(1.5406)#creation de l'objet XRD\n",
    "Diff = XRD.get_pattern(structure)#récupération des données de diffraction\n",
    "\n",
    "X=Diff.x[:3]\n",
    "Y=Diff.y[:3]\n",
    "hkls=Diff.hkls[:3]\n",
    "dhkls=Diff.d_hkls[:3]\n",
    "\n",
    "print(hkls)\n",
    "\n",
    "\n",
    "for i in range(3):\n",
    "    print(\"Pic %d: 2\\u03B8 = %f, Intensité = %f, hkl = (%d %d %d ), d_hkl = %f \\n\" % (i+1, X[i], Y[i], hkls[i][0]['hkl'][0], hkls[i][0]['hkl'][1], hkls[i][0]['hkl'][2], dhkls[i]))"
   ]
  },
  {
   "cell_type": "markdown",
   "id": "isolated-magnet",
   "metadata": {},
   "source": [
    "Note: Je ne parviens pas à afficher la quatrième données dans mon hkls..."
   ]
  }
 ],
 "metadata": {
  "kernelspec": {
   "display_name": "Python 3",
   "language": "python",
   "name": "python3"
  },
  "language_info": {
   "codemirror_mode": {
    "name": "ipython",
    "version": 3
   },
   "file_extension": ".py",
   "mimetype": "text/x-python",
   "name": "python",
   "nbconvert_exporter": "python",
   "pygments_lexer": "ipython3",
   "version": "3.6.8"
  }
 },
 "nbformat": 4,
 "nbformat_minor": 5
}
