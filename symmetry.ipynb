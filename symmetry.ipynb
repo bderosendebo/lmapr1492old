{
 "cells": [
  {
   "cell_type": "code",
   "execution_count": null,
   "id": "waiting-dallas",
   "metadata": {},
   "outputs": [],
   "source": [
    "from pymatgen import Lattice, Structure\n",
    "from pymatgen.symmetry.analyzer import SpacegroupAnalyzer\n",
    "from pymatgen.core.composition import Composition\n",
    "from jupyter_jsmol.pymatgen import quick_view\n",
    "from pymatgen.ext.matproj import MPRester \n",
    "from pymatgen.core.operations import SymmOp\n",
    "\n",
    "with MPRester(\"f8gAbZFioEswIMUD\") as m:\n",
    "\n",
    "    structure = m.get_structure_by_material_id(\"mp-6980\")\n"
   ]
  },
  {
   "cell_type": "code",
   "execution_count": null,
   "id": "complex-switzerland",
   "metadata": {
    "scrolled": true
   },
   "outputs": [],
   "source": [
    "view = quick_view(structure)\n",
    "display(view)"
   ]
  },
  {
   "cell_type": "markdown",
   "id": "pretty-lender",
   "metadata": {},
   "source": [
    "## Première symétrie"
   ]
  },
  {
   "cell_type": "code",
   "execution_count": null,
   "id": "periodic-welsh",
   "metadata": {},
   "outputs": [],
   "source": [
    "Sym1=SymmOp.from_xyz_string('-y,x-y,z')\n",
    "Sc0=[0,0,0]\n",
    "Sc0s = Sym1.operate(Sc0)\n",
    "\n",
    "print(\"atome de départ : \", Sc0)\n",
    "print(\"atome d'arrivée : \", Sc0s)\n",
    "print('opération de symétrie : \\n', Sc0s, '=', \n",
    "      Sym1.translation_vector, \"+ \\n\", Sym1.rotation_matrix, \".\", Sc0)"
   ]
  },
  {
   "cell_type": "markdown",
   "id": "coupled-surfing",
   "metadata": {},
   "source": [
    "Voici la représentation de la symétrie:"
   ]
  },
  {
   "cell_type": "code",
   "execution_count": null,
   "id": "worth-motorcycle",
   "metadata": {},
   "outputs": [],
   "source": [
    "%%html\n",
    "<img src = \"Sym1.jpg\">"
   ]
  },
  {
   "cell_type": "markdown",
   "id": "domestic-strap",
   "metadata": {},
   "source": [
    "## Seconde symétrie"
   ]
  },
  {
   "cell_type": "code",
   "execution_count": null,
   "id": "exciting-newsletter",
   "metadata": {},
   "outputs": [],
   "source": [
    "Sym2=SymmOp.from_xyz_string('-x+y,y,z')\n",
    "S3=[0.66667,0.33333,0.26130]\n",
    "S3s=Sym2.operate(S3)\n",
    "print(\"atome de départ : \", S3)\n",
    "print(\"atome d'arrivée : \", S3s)\n",
    "print('opération de symétrie : \\n', S3s, '=', \n",
    "      Sym2.translation_vector, \"+ \\n\", Sym2.rotation_matrix, \".\", S3)\n"
   ]
  },
  {
   "cell_type": "markdown",
   "id": "executed-score",
   "metadata": {},
   "source": [
    "Voici la représentation de la symétrie:"
   ]
  },
  {
   "cell_type": "code",
   "execution_count": null,
   "id": "bottom-swift",
   "metadata": {},
   "outputs": [],
   "source": [
    "%%html\n",
    "<img src = \"Sym2.jpg\">"
   ]
  },
  {
   "cell_type": "markdown",
   "id": "identical-tourism",
   "metadata": {},
   "source": [
    "## Troisième symétrie"
   ]
  },
  {
   "cell_type": "code",
   "execution_count": null,
   "id": "advanced-interstate",
   "metadata": {},
   "outputs": [],
   "source": [
    "Sym3=SymmOp.from_xyz_string('x,x-y,z')\n",
    "Cu1=[0.33333,0.66667,0.40013]\n",
    "Cu1s=Sym3.operate(Cu1)\n",
    "print(\"atome de départ : \", Cu1)\n",
    "print(\"atome d'arrivée : \", Cu1s)\n",
    "print('opération de symétrie : \\n', Cu1s, '=', \n",
    "      Sym3.translation_vector, \"+ \\n\", Sym3.rotation_matrix, \".\", Cu1)"
   ]
  },
  {
   "cell_type": "markdown",
   "id": "following-powell",
   "metadata": {},
   "source": [
    "Voici la représentation de la symétrie:"
   ]
  },
  {
   "cell_type": "code",
   "execution_count": null,
   "id": "compound-going",
   "metadata": {},
   "outputs": [],
   "source": [
    "%%html\n",
    "<img src = \"Sym3.jpg\">"
   ]
  },
  {
   "cell_type": "code",
   "execution_count": null,
   "id": "nonprofit-reservation",
   "metadata": {},
   "outputs": [],
   "source": []
  }
 ],
 "metadata": {
  "kernelspec": {
   "display_name": "Python 3",
   "language": "python",
   "name": "python3"
  },
  "language_info": {
   "codemirror_mode": {
    "name": "ipython",
    "version": 3
   },
   "file_extension": ".py",
   "mimetype": "text/x-python",
   "name": "python",
   "nbconvert_exporter": "python",
   "pygments_lexer": "ipython3",
   "version": "3.6.8"
  }
 },
 "nbformat": 4,
 "nbformat_minor": 5
}
